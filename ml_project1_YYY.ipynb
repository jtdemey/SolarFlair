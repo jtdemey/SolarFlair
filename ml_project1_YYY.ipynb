{
 "cells": [
  {
   "cell_type": "markdown",
   "metadata": {},
   "source": [
    "# Predicting Solar Flare Events Using Linear Regression\n",
    "\n",
    "## Overview\n",
    "This project aims to utilize linear regression in order to predict the likelihood of an occurrence of a solar flare given the specific characteristics of a particular sun region.\n",
    "\n",
    "### Hypothesis\n",
    "I hypothesize that employing the use of linear regression will be effective in predicting the likely amount of solar flares given the characteristics of a certain region on the sun.\n",
    "\n",
    "### About the Data Set\n",
    "I obtained this data set from the UCI Machine Learning Repository (Solar Flare Data Set) uploaded to the repository on 3/1/1989.  The data set is located at: http://archive.ics.uci.edu/ml/datasets/Solar+Flare. The data set contains the following variables.\n",
    "\n",
    "1. Code for class (modified Zurich class)  \n",
    "(A,B,C,D,E,F,H) \n",
    "\n",
    "2. Code for largest spot size              \n",
    "(X,R,S,A,H,K) \n",
    "\n",
    "3. Code for spot distribution              \n",
    "(X,O,I,C)\n",
    "\n",
    "4. Activity \n",
    "(1 = reduced, 2 = unchanged)\n",
    "\n",
    "5. Evolution            \n",
    "(1 = decay, 2 = no growth,3 = growth) \n",
    "\n",
    "6. Previous 24 hour flare activity code               \n",
    "(1 = nothing as big as an M1, 2 = one M1, 3 = more activity than one M1)\n",
    "\n",
    "7. Historically-complex \n",
    "(1 = Yes, 2 = No)\n",
    "\n",
    "8. Did region become historically complexon this pass across the sun's disk\n",
    "(1 = yes, 2 = no) \n",
    "\n",
    "9. Area \n",
    "(1 = small, 2 = large)\n",
    " \n",
    "\n",
    "\n",
    "### Instances/Variables to Drop\n",
    "\n",
    "Originally the data set contain an attribute called \"Area of the largest spot. We decided to drop that feature because all of the data was binary ones and that would not be benifical in training our algorithm.\n",
    "\n",
    "\n",
    "\n",
    "## Library Imports / Versions"
   ]
  },
  {
   "cell_type": "code",
   "execution_count": 1,
   "metadata": {},
   "outputs": [
    {
     "name": "stdout",
     "output_type": "stream",
     "text": [
      "Python:  3.6.1 |Anaconda 4.4.0 (64-bit)| (default, May 11 2017, 13:25:24) [MSC v.1900 64 bit (AMD64)]\n",
      "Pandas:  0.20.1\n",
      "Numpy:  1.12.1\n",
      "Matplotlib:  2.0.2\n",
      "Seaborn:  0.7.1\n",
      "SKLearn:  0.18.1\n",
      "Patsy:  0.4.1\n"
     ]
    }
   ],
   "source": [
    "import pylab\n",
    "import re\n",
    "import  numpy as np\n",
    "import pandas as pd\n",
    "import seaborn as sns\n",
    "from sklearn import linear_model\n",
    "from sklearn.model_selection import train_test_split\n",
    "from sklearn.preprocessing import StandardScaler, Normalizer\n",
    "from sklearn.metrics import confusion_matrix\n",
    "from patsy import dmatrices, dmatrix\n",
    "import matplotlib.pyplot as plt\n",
    "%matplotlib inline\n",
    "\n",
    "import sys\n",
    "import matplotlib\n",
    "import sklearn\n",
    "import patsy\n",
    "print (\"Python: \", sys.version)\n",
    "print('Pandas: ', pd.__version__)\n",
    "print(\"Numpy: \",np.__version__)\n",
    "print (\"Matplotlib: \", matplotlib.__version__)\n",
    "print(\"Seaborn: \", sns.__version__)\n",
    "print(\"SKLearn: \", sklearn.__version__)\n",
    "print(\"Patsy: \",patsy.__version__)"
   ]
  },
  {
   "cell_type": "markdown",
   "metadata": {},
   "source": [
    "### Load the Data Set"
   ]
  },
  {
   "cell_type": "code",
   "execution_count": 25,
   "metadata": {},
   "outputs": [
    {
     "name": "stdout",
     "output_type": "stream",
     "text": [
      "1066\n"
     ]
    },
    {
     "data": {
      "image/png": "[encoded data removed]",
      "text/plain": [
       "<matplotlib.figure.Figure at 0x250a23ae630>"
      ]
     },
     "metadata": {},
     "output_type": "display_data"
    },
    {
     "data": {
      "image/png": "[encoded data removed]",
      "text/plain": [
       "<matplotlib.figure.Figure at 0x250a21a8898>"
      ]
     },
     "metadata": {},
     "output_type": "display_data"
    }
   ],
   "source": [
    "flares = open(\"flares.txt\")\n",
    "fcount = 0\n",
    "for line in flares:\n",
    "\tfcount = fcount + 1\n",
    "flares.close()\n",
    "#Data lists\n",
    "flaredata = []\n",
    "#Modified Zurich class\n",
    "zca = [0] * fcount\n",
    "zcb = [0] * fcount\n",
    "zcc = [0] * fcount\n",
    "zcd = [0] * fcount\n",
    "zce = [0] * fcount\n",
    "zcf = [0] * fcount\n",
    "zch = [0] * fcount\n",
    "flaredata.append(zca)\n",
    "flaredata.append(zcb)\n",
    "flaredata.append(zcc)\n",
    "flaredata.append(zcd)\n",
    "flaredata.append(zce)\n",
    "flaredata.append(zcf)\n",
    "flaredata.append(zch)\n",
    "#Largest spot size\n",
    "lssx = [0] * fcount\n",
    "lssr = [0] * fcount\n",
    "lsss = [0] * fcount\n",
    "lssa = [0] * fcount\n",
    "lssh = [0] * fcount\n",
    "lssk = [0] * fcount\n",
    "flaredata.append(lssx)\n",
    "flaredata.append(lssr)\n",
    "flaredata.append(lsss)\n",
    "flaredata.append(lssa)\n",
    "flaredata.append(lssh)\n",
    "flaredata.append(lssk)\n",
    "#Spot distribution\n",
    "sdx = [0] * fcount\n",
    "sdo = [0] * fcount\n",
    "sdi = [0] * fcount\n",
    "sdc = [0] * fcount\n",
    "flaredata.append(sdx)\n",
    "flaredata.append(sdo)\n",
    "flaredata.append(sdi)\n",
    "flaredata.append(sdc)\n",
    "#Activity - 0=reduced, 1=unchanged\n",
    "activity = [0] * fcount\n",
    "flaredata.append(activity)\n",
    "#Evolution\n",
    "evod = [0] * fcount\n",
    "evon = [0] * fcount\n",
    "evog = [0] * fcount\n",
    "flaredata.append(evod)\n",
    "flaredata.append(evon)\n",
    "flaredata.append(evog)\n",
    "#Previous 24hr flare activity\n",
    "pfacm1 = [0] * fcount\n",
    "pfacm2 = [0] * fcount\n",
    "pfacm3 = [0] * fcount\n",
    "flaredata.append(pfacm1)\n",
    "flaredata.append(pfacm2)\n",
    "flaredata.append(pfacm3)\n",
    "#Historically complex\n",
    "histcomp = [0] * fcount\n",
    "flaredata.append(histcomp)\n",
    "#Did region become historically complex on this pass across the sun's disk? 0=no, 1=yes\n",
    "bhcop = [0] * fcount\n",
    "flaredata.append(bhcop)\n",
    "#Area, 0=small, 1=large\n",
    "flarearea = [0] * fcount\n",
    "flaredata.append(flarearea)\n",
    "#Area of largest spot, 0=(<=5) 1=(>5)\n",
    "lspots = [0] * fcount\n",
    "flaredata.append(lspots)\n",
    "\n",
    "#Result set - flare count\n",
    "flarecount = [0] * fcount\n",
    "flaredata.append(flarecount)\n",
    "#29 lists total, 28 without result set\n",
    "\n",
    "#Populate data\n",
    "flares = open(\"flares.txt\")\n",
    "findex = 0\n",
    "testcount = 0\n",
    "for line in flares:\n",
    "\tthisflare = re.split(\"\\s+\", line)\n",
    "\t#Zurich class\n",
    "\tif thisflare[0] == \"A\":\n",
    "\t\tzca[findex] = 1\n",
    "\telif thisflare[0] == \"B\":\n",
    "\t\tzcb[findex] = 1\n",
    "\telif thisflare[0] == \"C\":\n",
    "\t\tzcc[findex] = 1\n",
    "\telif thisflare[0] == \"D\":\n",
    "\t\tzcd[findex] = 1\n",
    "\telif thisflare[0] == \"E\":\n",
    "\t\tzce[findex] = 1\n",
    "\telif thisflare[0] == \"F\":\n",
    "\t\tzcf[findex] = 1\n",
    "\telif thisflare[0] == \"H\":\n",
    "\t\tzch[findex] = 1\n",
    "    #Spot size\n",
    "\tif thisflare[1] == \"X\":\n",
    "\t\tlssx[findex] = 1\n",
    "\telif thisflare[1] == \"R\":\n",
    "\t\tlssr[findex] = 1\n",
    "\telif thisflare[1] == \"S\":\n",
    "\t\tlsss[findex] = 1\n",
    "\telif thisflare[1] == \"A\":\n",
    "\t\tlssa[findex] = 1\n",
    "\telif thisflare[1] == \"H\":\n",
    "\t\tlssh[findex] = 1\n",
    "\telif thisflare[1] == \"K\":\n",
    "\t\tlssk[findex] = 1\n",
    "    #Spot distribution\n",
    "\tif thisflare[2] == \"X\":\n",
    "\t\tsdx[findex] = 1\n",
    "\telif thisflare[2] == \"O\":\n",
    "\t\tsdo[findex] = 1\n",
    "\telif thisflare[2] == \"I\":\n",
    "\t\tsdi[findex] = 1\n",
    "\telif thisflare[2] == \"C\":\n",
    "\t\tsdc[findex] = 1\n",
    "    #Activity\n",
    "\tif thisflare[3] == \"2\":\n",
    "\t\tactivity[findex] = 1\n",
    "    #Evolution\n",
    "\tif thisflare[4] == \"1\":\n",
    "\t\tevod[findex] = 1\n",
    "\telif thisflare[4] == \"2\":\n",
    "\t\tevon[findex] = 1\n",
    "\telif thisflare[4] == \"3\":\n",
    "\t\tevog[findex] = 1\n",
    "    #Previous activity\n",
    "\tif thisflare[5] == \"1\":\n",
    "\t\tpfacm1[findex] = 1\n",
    "\telif thisflare[5] == \"2\":\n",
    "\t\tpfacm2[findex] = 1\n",
    "\telif thisflare[5] == \"3\":\n",
    "\t\tpfacm3[findex] = 1\n",
    "\t#Historically complex\n",
    "\tif thisflare[6] == \"2\":\n",
    "\t\thistcomp[findex] = 1\n",
    "    #Became historically complex?\n",
    "\tif thisflare[7] == \"2\":\n",
    "\t\tbhcop[findex] = 1\n",
    "    #Area\n",
    "\tif thisflare[8] == \"2\":\n",
    "\t\tflarearea[findex] = 1\n",
    "    #Largest spot\n",
    "\tif thisflare[9] == \"2\":\n",
    "\t\tlspots[findex] = 1\n",
    "\t#Results\n",
    "\tif int(thisflare[10]) > 0:\n",
    "\t\tflarecount[findex] = flarecount[findex] + int(thisflare[9])\n",
    "\tif int(thisflare[11]) > 0:\n",
    "\t\tflarecount[findex] = flarecount[findex] + int(thisflare[10])\n",
    "\tif int(thisflare[12]) > 0:\n",
    "\t\tflarecount[findex] = flarecount[findex] + int(thisflare[11])\n",
    "\t#Iterate counter\n",
    "\tfindex = findex + 1\n",
    "\ttestcount = testcount + 1\n",
    "print(testcount)\n",
    "\n",
    "\n",
    "\n",
    "#Get count\n",
    "def getCount(li):\n",
    "\tc = 0\n",
    "\tfor i in li:\n",
    "\t\tif i == 1:\n",
    "\t\t\tc = c + 1\n",
    "\treturn c\n",
    "#Plot Zurich class\n",
    "zyax = [getCount(zca), getCount(zcb), getCount(zcc), getCount(zcd), getCount(zce), getCount(zcf), getCount(zch)]\n",
    "zxax = np.arange(7)\n",
    "plt.bar(zxax, zyax, align=\"center\", alpha=0.5)\n",
    "plt.title(\"Zurich Class Frequencies\")\n",
    "plt.xticks(zxax, (\"A\", \"B\", \"C\", \"D\", \"E\", \"F\", \"H\"))\n",
    "#plt.show()\n",
    "\n",
    "#Plot Largest Spot Size\n",
    "plt.cla()\n",
    "lsyax = [getCount(lssx), getCount(lssr), getCount(lsss), getCount(lssa), getCount(lssh), getCount(lssk)]\n",
    "lsxax = np.arange(6)\n",
    "plt.bar(lsxax, lsyax, align=\"center\", alpha=0.5)\n",
    "plt.title(\"Largest Spot Size\")\n",
    "plt.xticks(zxax, (\"X\", \"R\", \"S\", \"A\", \"H\", \"K\"))\n",
    "#plt.show()\n",
    "\n",
    "#Plot Spot Distribution\n",
    "plt.cla()\n",
    "sdyax = [getCount(sdx), getCount(sdo), getCount(sdi), getCount(sdc)]\n",
    "sdxax = np.arange(4)\n",
    "plt.bar(sdxax, sdyax, align=\"center\", alpha=0.5)\n",
    "plt.title(\"Spot Distribution Class\")\n",
    "plt.xticks(sdxax, (\"X\", \"O\", \"I\", \"C\"))\n",
    "#plt.show()\n",
    "\n",
    "#Plot Activity\n",
    "plt.cla()\n",
    "actyax = [getCount(activity), (1066 - getCount(activity))]\n",
    "actxax = np.arange(2)\n",
    "plt.bar(actxax, actyax, align=\"center\", alpha=0.5)\n",
    "plt.title(\"Activity\")\n",
    "plt.xticks(actxax, (\"Activity\", \"No Activity\"))\n",
    "#plt.show()\n",
    "\n",
    "#Plot Evolution\n",
    "plt.cla()\n",
    "evoyax = [getCount(evod), getCount(evon), getCount(evog)]\n",
    "evoxax = np.arange(3)\n",
    "plt.bar(evoxax, evoyax, align=\"center\", alpha=0.5)\n",
    "plt.title(\"Evolution\")\n",
    "plt.xticks(evoxax, (\"Decay\", \"No Growth\", \"Growth\"))\n",
    "#plt.show()\n",
    "\n",
    "#Plot Previous 24-hr Flare Activity Code\n",
    "plt.cla()\n",
    "pfacyax = [getCount(pfacm1), getCount(pfacm2), getCount(pfacm3)]\n",
    "pfacxax = np.arange(3)\n",
    "plt.bar(pfacxax, pfacyax, align=\"center\", alpha=0.5)\n",
    "plt.title(\"Previous 24-hr Flare Activity Code\")\n",
    "plt.xticks(pfacxax, (\"Nothing as big as an M1\", \"One M1\", \"More activity than one M1\"))\n",
    "plt.show()\n",
    "\n",
    "#Plot Historically Complex\n",
    "plt.cla()\n",
    "hcyax = [getCount(histcomp), (1066 - getCount(histcomp))]\n",
    "hcxax = np.arange(2)\n",
    "plt.bar(hcxax, hcyax, align=\"center\", alpha=0.5)\n",
    "plt.title(\"Historically Complex\")\n",
    "plt.xticks(hcxax, (\"Yes\", \"No\"))\n",
    "#plt.show()\n",
    "\n",
    "#Plot Became Historically Complex\n",
    "plt.cla()\n",
    "bhyax = [getCount(bhcop), (1066 - getCount(bhcop))]\n",
    "bhxax = np.arange(2)\n",
    "plt.bar(bhxax, bhyax, align=\"center\", alpha=0.5)\n",
    "plt.title(\"Did area become historically complex on this pass?\")\n",
    "plt.xticks(bhxax, (\"Yes\", \"No\"))\n",
    "#plt.show()\n",
    "\n",
    "#Plot Area\n",
    "plt.cla()\n",
    "aryax = [getCount(flarearea), (1066 - getCount(flarearea))]\n",
    "arxax = np.arange(2)\n",
    "plt.bar(arxax, aryax, align=\"center\", alpha=0.5)\n",
    "plt.title(\"Area\")\n",
    "plt.xticks(arxax, (\"Small\", \"Large\"))\n",
    "#plt.show()\n",
    "\n",
    "#Plot Largest Spot Area - deprecated as everything is <=5\n",
    "plt.cla()\n",
    "spyax = [getCount(lspots), (1066 - getCount(lspots))]\n",
    "spxax = np.arange(2)\n",
    "plt.bar(spxax, spyax, align=\"center\", alpha=0.5)\n",
    "plt.title(\"Area of Largest Spot\")\n",
    "plt.xticks(spxax, (\"<=5\", \">5\"))\n",
    "plt.show()\n",
    "#print(lspots)"
   ]
  },
  {
   "cell_type": "markdown",
   "metadata": {},
   "source": [
    "## Exploratory Analysis\n",
    "\n",
    "### Statistical Summary\n",
    "First, let's summarize all of the variables to get sense of the clustering and spread on the continuous variables and the proportions for categorical variables."
   ]
  },
  {
   "cell_type": "code",
   "execution_count": 9,
   "metadata": {
    "collapsed": true
   },
   "outputs": [],
   "source": [
    "pddata = pd.read_csv('flares.txt', sep = \" \", header = None)"
   ]
  },
  {
   "cell_type": "code",
   "execution_count": null,
   "metadata": {
    "collapsed": true
   },
   "outputs": [],
   "source": []
  },
  {
   "cell_type": "markdown",
   "metadata": {},
   "source": [
    "Looks like we have some missing values for horsepower. Since there are so few, we will probably drop these later. Area if "
   ]
  },
  {
   "cell_type": "markdown",
   "metadata": {},
   "source": [
    "Let's look at the frequency counts of our categorical variables."
   ]
  },
  {
   "cell_type": "code",
   "execution_count": 28,
   "metadata": {},
   "outputs": [
    {
     "name": "stdout",
     "output_type": "stream",
     "text": [
      "           cylinders  dummy\n",
      "cylinders                  \n",
      "3                  4    1.0\n",
      "4                204   51.0\n",
      "5                  3    1.0\n",
      "6                 84   21.0\n",
      "8                103   26.0 \n",
      "\n",
      "             model_year  dummy\n",
      "model_year                   \n",
      "70                  29    7.0\n",
      "71                  28    7.0\n",
      "72                  28    7.0\n",
      "73                  40   10.0\n",
      "74                  27    7.0\n",
      "75                  30    8.0\n",
      "76                  34    9.0\n",
      "77                  28    7.0\n",
      "78                  36    9.0\n",
      "79                  29    7.0\n",
      "80                  29    7.0\n",
      "81                  29    7.0\n",
      "82                  31    8.0 \n",
      "\n",
      "         origin  dummy\n",
      "origin               \n",
      "1          249   63.0\n",
      "2           70   18.0\n",
      "3           79   20.0\n"
     ]
    }
   ],
   "source": [
    "d['dummy']=0\n",
    "cylinders = d[['cylinders','dummy']].groupby(d.cylinders).count()\n",
    "cylinders.dummy=np.round(cylinders.cylinders/len(d),2)*100\n",
    "\n",
    "model_year = d[['model_year','dummy']].groupby(d.model_year).count()\n",
    "model_year.dummy=np.round(model_year.model_year/len(d),2)*100\n",
    "\n",
    "origin = d[['origin','dummy']].groupby(d.origin).count()\n",
    "origin.dummy=np.round(origin.origin/len(d),2)*100\n",
    "\n",
    "print(cylinders, '\\n\\n', model_year, '\\n\\n', origin)"
   ]
  },
  {
   "cell_type": "markdown",
   "metadata": {},
   "source": [
    "Cylinders is not balanced with very few examples for 3/5 cylinder cars.  Not a surprise as this is an unusual configuration for cars. Model year has 13 years worth of data evenly balanced except for 1973 which has 40 instances. Finally, the origin is not balanced, there are many more examples for 1 than 2 and 3."
   ]
  },
  {
   "cell_type": "markdown",
   "metadata": {},
   "source": [
    "### Graphical Analysis\n",
    "\n",
    "Next, lets plot the independent continuous variables against the dependent variable in some scatter plots to get a sense of the relationships."
   ]
  },
  {
   "cell_type": "code",
   "execution_count": 6,
   "metadata": {},
   "outputs": [
    {
     "ename": "NameError",
     "evalue": "name 'zcb' is not defined",
     "output_type": "error",
     "traceback": [
      "\u001b[1;31m---------------------------------------------------------------------------\u001b[0m",
      "\u001b[1;31mNameError\u001b[0m                                 Traceback (most recent call last)",
      "\u001b[1;32m<ipython-input-6-810a1faaebb3>\u001b[0m in \u001b[0;36m<module>\u001b[1;34m()\u001b[0m\n\u001b[0;32m      7\u001b[0m         \u001b[1;32mreturn\u001b[0m \u001b[0mc\u001b[0m\u001b[1;33m\u001b[0m\u001b[0m\n\u001b[0;32m      8\u001b[0m \u001b[1;31m#Plot Zurich class\u001b[0m\u001b[1;33m\u001b[0m\u001b[1;33m\u001b[0m\u001b[0m\n\u001b[1;32m----> 9\u001b[1;33m \u001b[0mzyax\u001b[0m \u001b[1;33m=\u001b[0m \u001b[1;33m[\u001b[0m\u001b[0mgetCount\u001b[0m\u001b[1;33m(\u001b[0m\u001b[0mzcb\u001b[0m\u001b[1;33m)\u001b[0m\u001b[1;33m,\u001b[0m \u001b[0mgetCount\u001b[0m\u001b[1;33m(\u001b[0m\u001b[0mzcc\u001b[0m\u001b[1;33m)\u001b[0m\u001b[1;33m,\u001b[0m \u001b[0mgetCount\u001b[0m\u001b[1;33m(\u001b[0m\u001b[0mzcd\u001b[0m\u001b[1;33m)\u001b[0m\u001b[1;33m,\u001b[0m \u001b[0mgetCount\u001b[0m\u001b[1;33m(\u001b[0m\u001b[0mzce\u001b[0m\u001b[1;33m)\u001b[0m\u001b[1;33m,\u001b[0m \u001b[0mgetCount\u001b[0m\u001b[1;33m(\u001b[0m\u001b[0mzcf\u001b[0m\u001b[1;33m)\u001b[0m\u001b[1;33m,\u001b[0m \u001b[0mgetCount\u001b[0m\u001b[1;33m(\u001b[0m\u001b[0mzch\u001b[0m\u001b[1;33m)\u001b[0m\u001b[1;33m]\u001b[0m\u001b[1;33m\u001b[0m\u001b[0m\n\u001b[0m\u001b[0;32m     10\u001b[0m \u001b[0mzxax\u001b[0m \u001b[1;33m=\u001b[0m \u001b[0mnp\u001b[0m\u001b[1;33m.\u001b[0m\u001b[0marange\u001b[0m\u001b[1;33m(\u001b[0m\u001b[1;36m7\u001b[0m\u001b[1;33m)\u001b[0m\u001b[1;33m\u001b[0m\u001b[0m\n\u001b[0;32m     11\u001b[0m \u001b[0mplt\u001b[0m\u001b[1;33m.\u001b[0m\u001b[0mbar\u001b[0m\u001b[1;33m(\u001b[0m\u001b[0mzxax\u001b[0m\u001b[1;33m,\u001b[0m \u001b[0mzyax\u001b[0m\u001b[1;33m,\u001b[0m \u001b[0malign\u001b[0m\u001b[1;33m=\u001b[0m\u001b[1;34m\"center\"\u001b[0m\u001b[1;33m,\u001b[0m \u001b[0malpha\u001b[0m\u001b[1;33m=\u001b[0m\u001b[1;36m0.5\u001b[0m\u001b[1;33m)\u001b[0m\u001b[1;33m\u001b[0m\u001b[0m\n",
      "\u001b[1;31mNameError\u001b[0m: name 'zcb' is not defined"
     ]
    }
   ],
   "source": [
    "#Get count\n",
    "def getCount(li):\n",
    "\tc = 0\n",
    "\tfor i in li:\n",
    "\t\tif i == 1:\n",
    "\t\t\tc = c + 1\n",
    "\treturn c\n",
    "#Plot Zurich class\n",
    "zyax = [getCount(zca), getCount(zcb), getCount(zcc), getCount(zcd), getCount(zce), getCount(zcf), getCount(zch)]\n",
    "zxax = np.arange(7)\n",
    "plt.bar(zxax, zyax, align=\"center\", alpha=0.5)\n",
    "plt.title(\"Zurich Class Frequencies\")\n",
    "plt.xticks(zxax, (\"A\", \"B\", \"C\", \"D\", \"E\", \"F\", \"H\"))\n",
    "#plt.show()\n",
    "\n"
   ]
  },
  {
   "cell_type": "code",
   "execution_count": null,
   "metadata": {
    "collapsed": true
   },
   "outputs": [],
   "source": [
    "#Plot Largest Spot Size\n",
    "plt.cla()\n",
    "lsyax = [getCount(lssx), getCount(lssr), getCount(lsss), getCount(lssa), getCount(lssh), getCount(lssk)]\n",
    "lsxax = np.arange(7)\n",
    "plt.bar(zxax, zyax, align=\"center\", alpha=0.5)\n",
    "plt.title(\"Largest Spot Size\")\n",
    "plt.xticks(zxax, (\"X\", \"R\", \"S\", \"A\", \"H\", \"K\"))\n",
    "#plt.show()\n",
    "\n",
    "#Plot Spot Distribution\n",
    "plt.cla()\n",
    "sdyax = [getCount(sdx), getCount(sdo), getCount(sdi), getCount(sdc)]\n",
    "sdxax = np.arange(4)\n",
    "plt.bar(sdxax, sdyax, align=\"center\", alpha=0.5)\n",
    "plt.title(\"Spot Distribution Class\")\n",
    "plt.xticks(sdxax, (\"X\", \"O\", \"I\", \"C\"))\n",
    "#plt.show()\n",
    "\n",
    "#Plot Activity\n",
    "plt.cla()\n",
    "actyax = [getCount(activity), (1066 - getCount(activity))]\n",
    "actxax = np.arange(2)\n",
    "plt.bar(actxax, actyax, align=\"center\", alpha=0.5)\n",
    "plt.title(\"Activity\")\n",
    "plt.xticks(actxax, (\"Activity\", \"No Activity\"))\n",
    "plt.show()\n",
    "\n",
    "#Plot Evolution\n",
    "plt.cla()\n",
    "evoyax = [getCount(evod), getCount(evon), getCount(evog)]\n",
    "evoxax = np.arange(3)\n",
    "plt.bar(evoxax, evoyax, align=\"center\", alpha=0.5)\n",
    "plt.title(\"Evolution\")\n",
    "plt.xticks(evoxax, (\"Decay\", \"No Growth\", \"Growth\"))\n",
    "#plt.show()\n",
    "\n",
    "#Plot Previous 24-hr Flare Activity Code\n",
    "plt.cla()\n",
    "pfacyax = [getCount(pfacm1), getCount(pfacm2), getCount(pfacm3)]\n",
    "pfacxax = np.arange(3)\n",
    "plt.bar(pfacxax, pfacyax, align=\"center\", alpha=0.5)\n",
    "plt.title(\"Previous 24-hr Flare Activity Code\")\n",
    "plt.xticks(pfacxax, (\"Nothing as big as an M1\", \"One M1\", \"More activity than one M1\"))\n",
    "plt.show()\n",
    "\n",
    "#Plot Historically Complex\n",
    "plt.cla()\n",
    "hcyax = [getCount(histcomp), (1066 - getCount(histcomp))]\n",
    "hcxax = np.arange(2)\n",
    "plt.bar(hcxax, hcyax, align=\"center\", alpha=0.5)\n",
    "plt.title(\"Historically Complex\")\n",
    "plt.xticks(hcxax, (\"Yes\", \"No\"))\n",
    "#plt.show()\n",
    "\n",
    "#Plot Became Historically Complex\n",
    "plt.cla()\n",
    "bhyax = [getCount(bhcop), (1066 - getCount(bhcop))]\n",
    "bhxax = np.arange(2)\n",
    "plt.bar(bhxax, bhyax, align=\"center\", alpha=0.5)\n",
    "plt.title(\"Did area become historically complex on this pass?\")\n",
    "plt.xticks(bhxax, (\"Yes\", \"No\"))\n",
    "#plt.show()\n",
    "\n",
    "#Plot Area\n",
    "plt.cla()\n",
    "aryax = [getCount(flarearea), (1066 - getCount(flarearea))]\n",
    "arxax = np.arange(2)\n",
    "plt.bar(arxax, aryax, align=\"center\", alpha=0.5)\n",
    "plt.title(\"Area\")\n",
    "plt.xticks(arxax, (\"Small\", \"Large\"))\n",
    "#plt.show()\n",
    "\n",
    "#Plot Largest Spot Area - deprecated as everything is <=5\n",
    "#plt.cla()\n",
    "#spyax = [getCount(lspots), (1066 - getCount(lspots))]\n",
    "#spxax = np.arange(2)\n",
    "#plt.bar(spxax, spyax, align=\"center\", alpha=0.5)\n",
    "#plt.title(\"Area of Largest Spot\")\n",
    "#plt.xticks(spxax, (\"<=5\", \">5\"))\n",
    "#plt.show()\n",
    "#print(lspots)"
   ]
  },
  {
   "cell_type": "markdown",
   "metadata": {},
   "source": [
    "These plots show there appears to be a negative relationship between displacement, horsepower, and weight with regards to MPG. In other words, as they go up, the MPG goes down. However, the relationship does not look strictly linear - more like a curve.  \n",
    "\n",
    "The relationship between acceleration and MPG is less clear. It could be a positive linear relationship, but the spread is wide, therefore that may not be the case.\n",
    "\n",
    "Let's also look at the shape of these variables."
   ]
  },
  {
   "cell_type": "code",
   "execution_count": 30,
   "metadata": {},
   "outputs": [
    {
     "data": {
      "image/png": "[encoded data removed]",
      "text/plain": [
       "<matplotlib.figure.Figure at 0x1108700f0>"
      ]
     },
     "metadata": {},
     "output_type": "display_data"
    }
   ],
   "source": [
    "fig = plt.figure(figsize=(12,6))\n",
    "\n",
    "fig.subplots_adjust(wspace=0.25, hspace=0.50, left=0.125, right=0.9, top=0.9, bottom=0.1)\n",
    "\n",
    "ax1 = fig.add_subplot(221)\n",
    "d.displacement.plot(kind=\"kde\")\n",
    "ax1.set_xlabel(\"Displacement\")\n",
    "ax1.set_ylabel(\"Frequency\")\n",
    "\n",
    "ax2 = fig.add_subplot(222)\n",
    "d.horsepower.plot(kind=\"kde\")\n",
    "ax2.set_xlabel(\"Horsepower\")\n",
    "ax2.set_ylabel(\"Frequency\")\n",
    "\n",
    "ax3 = fig.add_subplot(223)\n",
    "d.weight.plot(kind=\"kde\")\n",
    "ax3.set_xlabel(\"Weight (Tons)\")\n",
    "ax3.set_ylabel(\"Frequency\")\n",
    "\n",
    "ax4 =fig.add_subplot(224)\n",
    "d.acceleration.plot(kind=\"kde\")\n",
    "ax4.set_xlabel(\"Acceleration (Seconds)\")\n",
    "ax4.set_ylabel(\"Frequency\")\n",
    "\n",
    "plt.show()"
   ]
  },
  {
   "cell_type": "markdown",
   "metadata": {},
   "source": [
    "The curves for these variables indicate that except for **acceleration** they don't appear to be exactly normally distributed, but they are close enough that we will consider them normally distributed for our purposes."
   ]
  },
  {
   "cell_type": "markdown",
   "metadata": {},
   "source": [
    "We also want to look at the frequency graphs of the categorical data to get a better sense of what they look like."
   ]
  },
  {
   "cell_type": "code",
   "execution_count": 31,
   "metadata": {},
   "outputs": [
    {
     "data": {
      "image/png": "[encoded data removed]",
      "text/plain": [
       "<matplotlib.figure.Figure at 0x11413dba8>"
      ]
     },
     "metadata": {},
     "output_type": "display_data"
    }
   ],
   "source": [
    "fig = plt.figure(figsize=(12,10))\n",
    "\n",
    "fig.subplots_adjust(wspace=0.25, hspace=0.50, left=0.125, right=0.9, top=0.9, bottom=0.1)\n",
    "\n",
    "ax1 = fig.add_subplot(311)\n",
    "cylinders.cylinders.plot(kind=\"barh\")\n",
    "ax1.set_ylabel(\"Number of Cylinders\")\n",
    "ax1.set_xlabel(\"Frequency\")\n",
    "ax1.set_xlim(0,210)\n",
    "\n",
    "ax2 = fig.add_subplot(312)\n",
    "model_year.model_year.plot(kind=\"barh\")\n",
    "ax2.set_ylabel(\"Model Year\")\n",
    "ax2.set_xlabel(\"Frequency\")\n",
    "ax2.set_xlim(0,50)\n",
    "\n",
    "ax3 = fig.add_subplot(313)\n",
    "origin.origin.plot(kind=\"barh\")\n",
    "ax3.set_ylabel(\"Origin\")\n",
    "ax3.set_xlabel(\"Frequency\")\n",
    "ax3.set_xlim(0,300)\n",
    "\n",
    "plt.show()"
   ]
  },
  {
   "cell_type": "markdown",
   "metadata": {},
   "source": [
    "This is just a graphical view of the text data we looked at earlier. This doesn't really provide any new insight, therefore wasn't necessary to do."
   ]
  },
  {
   "cell_type": "markdown",
   "metadata": {},
   "source": [
    "### Additional Exploratory Analysis\n",
    "\n",
    "Let's look at the correlation matrix to see if it supports our Graphical Analysis."
   ]
  },
  {
   "cell_type": "code",
   "execution_count": 32,
   "metadata": {},
   "outputs": [
    {
     "data": {
      "text/html": [
       "<div>\n",
       "<style>\n",
       "    .dataframe thead tr:only-child th {\n",
       "        text-align: right;\n",
       "    }\n",
       "\n",
       "    .dataframe thead th {\n",
       "        text-align: left;\n",
       "    }\n",
       "\n",
       "    .dataframe tbody tr th {\n",
       "        vertical-align: top;\n",
       "    }\n",
       "</style>\n",
       "<table border=\"1\" class=\"dataframe\">\n",
       "  <thead>\n",
       "    <tr style=\"text-align: right;\">\n",
       "      <th></th>\n",
       "      <th>cylinders</th>\n",
       "      <th>displacement</th>\n",
       "      <th>horsepower</th>\n",
       "      <th>weight</th>\n",
       "      <th>acceleration</th>\n",
       "      <th>model_year</th>\n",
       "      <th>origin</th>\n",
       "      <th>mpg</th>\n",
       "      <th>dummy</th>\n",
       "    </tr>\n",
       "  </thead>\n",
       "  <tbody>\n",
       "    <tr>\n",
       "      <th>cylinders</th>\n",
       "      <td>1.000000</td>\n",
       "      <td>0.950721</td>\n",
       "      <td>0.842983</td>\n",
       "      <td>0.896017</td>\n",
       "      <td>-0.505419</td>\n",
       "      <td>-0.348746</td>\n",
       "      <td>-0.562543</td>\n",
       "      <td>-0.775396</td>\n",
       "      <td>NaN</td>\n",
       "    </tr>\n",
       "    <tr>\n",
       "      <th>displacement</th>\n",
       "      <td>0.950721</td>\n",
       "      <td>1.000000</td>\n",
       "      <td>0.897257</td>\n",
       "      <td>0.932824</td>\n",
       "      <td>-0.543684</td>\n",
       "      <td>-0.370164</td>\n",
       "      <td>-0.609409</td>\n",
       "      <td>-0.804203</td>\n",
       "      <td>NaN</td>\n",
       "    </tr>\n",
       "    <tr>\n",
       "      <th>horsepower</th>\n",
       "      <td>0.842983</td>\n",
       "      <td>0.897257</td>\n",
       "      <td>1.000000</td>\n",
       "      <td>0.864538</td>\n",
       "      <td>-0.689196</td>\n",
       "      <td>-0.416361</td>\n",
       "      <td>-0.455171</td>\n",
       "      <td>-0.778427</td>\n",
       "      <td>NaN</td>\n",
       "    </tr>\n",
       "    <tr>\n",
       "      <th>weight</th>\n",
       "      <td>0.896017</td>\n",
       "      <td>0.932824</td>\n",
       "      <td>0.864538</td>\n",
       "      <td>1.000000</td>\n",
       "      <td>-0.417457</td>\n",
       "      <td>-0.306564</td>\n",
       "      <td>-0.581024</td>\n",
       "      <td>-0.831741</td>\n",
       "      <td>NaN</td>\n",
       "    </tr>\n",
       "    <tr>\n",
       "      <th>acceleration</th>\n",
       "      <td>-0.505419</td>\n",
       "      <td>-0.543684</td>\n",
       "      <td>-0.689196</td>\n",
       "      <td>-0.417457</td>\n",
       "      <td>1.000000</td>\n",
       "      <td>0.288137</td>\n",
       "      <td>0.205873</td>\n",
       "      <td>0.420289</td>\n",
       "      <td>NaN</td>\n",
       "    </tr>\n",
       "    <tr>\n",
       "      <th>model_year</th>\n",
       "      <td>-0.348746</td>\n",
       "      <td>-0.370164</td>\n",
       "      <td>-0.416361</td>\n",
       "      <td>-0.306564</td>\n",
       "      <td>0.288137</td>\n",
       "      <td>1.000000</td>\n",
       "      <td>0.180662</td>\n",
       "      <td>0.579267</td>\n",
       "      <td>NaN</td>\n",
       "    </tr>\n",
       "    <tr>\n",
       "      <th>origin</th>\n",
       "      <td>-0.562543</td>\n",
       "      <td>-0.609409</td>\n",
       "      <td>-0.455171</td>\n",
       "      <td>-0.581024</td>\n",
       "      <td>0.205873</td>\n",
       "      <td>0.180662</td>\n",
       "      <td>1.000000</td>\n",
       "      <td>0.563450</td>\n",
       "      <td>NaN</td>\n",
       "    </tr>\n",
       "    <tr>\n",
       "      <th>mpg</th>\n",
       "      <td>-0.775396</td>\n",
       "      <td>-0.804203</td>\n",
       "      <td>-0.778427</td>\n",
       "      <td>-0.831741</td>\n",
       "      <td>0.420289</td>\n",
       "      <td>0.579267</td>\n",
       "      <td>0.563450</td>\n",
       "      <td>1.000000</td>\n",
       "      <td>NaN</td>\n",
       "    </tr>\n",
       "    <tr>\n",
       "      <th>dummy</th>\n",
       "      <td>NaN</td>\n",
       "      <td>NaN</td>\n",
       "      <td>NaN</td>\n",
       "      <td>NaN</td>\n",
       "      <td>NaN</td>\n",
       "      <td>NaN</td>\n",
       "      <td>NaN</td>\n",
       "      <td>NaN</td>\n",
       "      <td>NaN</td>\n",
       "    </tr>\n",
       "  </tbody>\n",
       "</table>\n",
       "</div>"
      ],
      "text/plain": [
       "              cylinders  displacement  horsepower    weight  acceleration  \\\n",
       "cylinders      1.000000      0.950721    0.842983  0.896017     -0.505419   \n",
       "displacement   0.950721      1.000000    0.897257  0.932824     -0.543684   \n",
       "horsepower     0.842983      0.897257    1.000000  0.864538     -0.689196   \n",
       "weight         0.896017      0.932824    0.864538  1.000000     -0.417457   \n",
       "acceleration  -0.505419     -0.543684   -0.689196 -0.417457      1.000000   \n",
       "model_year    -0.348746     -0.370164   -0.416361 -0.306564      0.288137   \n",
       "origin        -0.562543     -0.609409   -0.455171 -0.581024      0.205873   \n",
       "mpg           -0.775396     -0.804203   -0.778427 -0.831741      0.420289   \n",
       "dummy               NaN           NaN         NaN       NaN           NaN   \n",
       "\n",
       "              model_year    origin       mpg  dummy  \n",
       "cylinders      -0.348746 -0.562543 -0.775396    NaN  \n",
       "displacement   -0.370164 -0.609409 -0.804203    NaN  \n",
       "horsepower     -0.416361 -0.455171 -0.778427    NaN  \n",
       "weight         -0.306564 -0.581024 -0.831741    NaN  \n",
       "acceleration    0.288137  0.205873  0.420289    NaN  \n",
       "model_year      1.000000  0.180662  0.579267    NaN  \n",
       "origin          0.180662  1.000000  0.563450    NaN  \n",
       "mpg             0.579267  0.563450  1.000000    NaN  \n",
       "dummy                NaN       NaN       NaN    NaN  "
      ]
     },
     "execution_count": 32,
     "metadata": {},
     "output_type": "execute_result"
    }
   ],
   "source": [
    "d.corr()"
   ]
  },
  {
   "cell_type": "markdown",
   "metadata": {},
   "source": [
    "The correlation matrix supports our scatterplots. For a 1 unit increase in displacement, horsepower, or weight, the MPG goes down.  And, there is a positive correlation between acceleration and MPG (ignore the categorical variables).\n",
    "\n",
    "## Functions\n",
    "* **my_lr: ** trains the model, displays the coefficients and intercept as well as display the R-squared value and the mean squared error for the validation and training sets.  Finally it will plot the residuals of the test for further graphical analysis.\n",
    "* **prep_data: ** takes the data set with only continuous variablesas input and returns train, validate and test sets for the features/target variable.\n",
    "* **prep_data_all: ** takes complete data set as input and returns train,validate and test sets for the features/target.\n",
    "* **normalize_data: ** takes data set with only continuous variables as input and normalizes them."
   ]
  },
  {
   "cell_type": "code",
   "execution_count": 55,
   "metadata": {
    "collapsed": true
   },
   "outputs": [],
   "source": [
    "def my_lr(X_train,Y_train,X_validate, Y_validate, X_test,Y_test, experiment, replicate):\n",
    "    regr = linear_model.LinearRegression() #LR Object\n",
    "    regr.fit(X_train,Y_train) #Fit the model\n",
    "    print(\"===================================\")\n",
    "    print(experiment, replicate)\n",
    "    print(\"===================================\")\n",
    "    print('Model Coefficients w\\Intercept: \\n', regr.intercept_, regr.coef_,\"\\n\") #Print the coefficients    \n",
    "    \n",
    "    print(\"Validate\")\n",
    "    print(\"===================================\")\n",
    "    print('Coefficient of Determination: %.2f' % regr.score(X_validate, Y_validate))  #Print the variance score ($$r^2$$)\n",
    "    print(\"Mean squared error: %.2f\" % np.mean((regr.predict(X_validate) - Y_validate) ** 2))\n",
    "    \n",
    "    print(\"\\nTest\")\n",
    "    print(\"===================================\")\n",
    "    print('Coefficient of Determination: %.2f' % regr.score(X_test, Y_test))  #Print the variance score ($$r^2$$)\n",
    "    print(\"Mean squared error: %.2f\" % np.mean((regr.predict(X_test) - Y_test) ** 2))\n",
    "    \n",
    "    \n",
    "    fitted_values= regr.predict(X_test) #Make the predictions\n",
    "    #print(\"Predictions: \", fitted_values) # used for debugging and evaluation\n",
    "    residuals=fitted_values - Y_test #Subtract observed value from predictions (y-hat)-y\n",
    "    \n",
    "    #Plot the fitted values against the residuals for the test\n",
    "    plt.scatter(fitted_values,residuals, marker=\"o\")\n",
    "    plt.xlabel(\"Fitted Values\")\n",
    "    plt.ylabel(\"Residuals\")\n",
    "    plt.xlim([np.min(fitted_values)-1,np.max(fitted_values)+1])\n",
    "    x1=np.linspace(np.min(fitted_values)-1, np.max(fitted_values)+1)\n",
    "    y1=np.zeros(len(x1))\n",
    "    plt.plot(x1, y1, color=\"red\")\n",
    "    plt.show()\n",
    "\n",
    "def prep_data(d,train):\n",
    "    test_size = (100.0 - train)/100\n",
    "    d.columns=(\"x1\",\"x2\",\"x3\",\"x4\",\"y\")\n",
    "    train, temp = train_test_split(d, test_size =test_size )\n",
    "    validate, test = train_test_split(temp, test_size=.50)\n",
    "\n",
    "\n",
    "    X_train=train[['x1','x2','x3','x4']]\n",
    "    Y_train=train[['y']]\n",
    "\n",
    "    X_validate=validate[['x1','x2','x3','x4']]\n",
    "    Y_validate=validate[['y']]\n",
    "\n",
    "    X_test=test[['x1','x2','x3','x4']]\n",
    "    Y_test=test[['y']]\n",
    "    \n",
    "    return X_train, Y_train, X_validate, Y_validate, X_test, Y_test\n",
    "\n",
    "def prep_data_all(d,train):\n",
    "    test_size = (100.0 - train)/100\n",
    "    train, temp = train_test_split(d, test_size =test_size )\n",
    "    validate, test = train_test_split(temp, test_size=.50)\n",
    "\n",
    "    columns = d.columns\n",
    "    mask = np.ones(columns.shape, dtype=bool)\n",
    "    i=25\n",
    "    mask[i]=0\n",
    "\n",
    "    X_train=train[columns[mask]]\n",
    "    Y_train=train[['y']]\n",
    "\n",
    "    X_validate=validate[columns[mask]]\n",
    "    Y_validate=validate[['y']]\n",
    "\n",
    "    X_test=test[columns[mask]]\n",
    "    Y_test=test[['y']]\n",
    "    \n",
    "    return X_train, Y_train, X_validate, Y_validate, X_test, Y_test\n",
    "\n",
    "def normalize_data(X_train, Y_train, X_validate, Y_validate, X_test, Y_test):\n",
    "    X_train_normed = (X_train-X_train.mean())/X_train.std()\n",
    "    Y_train_normed = (Y_train-Y_train.mean())/Y_train.std()\n",
    "\n",
    "    X_validate_normed = (X_validate-X_train.mean())/X_train.std()\n",
    "    Y_validate_normed = (Y_validate-Y_train.mean())/Y_train.std()\n",
    "\n",
    "    X_test_normed = (X_test-X_train.mean())/X_train.std()\n",
    "    Y_test_normed = (Y_test-Y_train.mean())/Y_train.std()\n",
    "    \n",
    "    return X_train_normed, Y_train_normed, X_validate_normed, Y_validate_normed, X_test_normed, Y_test_normed"
   ]
  },
  {
   "cell_type": "markdown",
   "metadata": {},
   "source": [
    "## Data Removal\n",
    "Drop the instances/variables we don't need or can't use."
   ]
  },
  {
   "cell_type": "code",
   "execution_count": 56,
   "metadata": {},
   "outputs": [
    {
     "ename": "ValueError",
     "evalue": "labels ['cylinders' 'model_year' 'origin' 'dummy'] not contained in axis",
     "output_type": "error",
     "traceback": [
      "\u001b[0;31m---------------------------------------------------------------------------\u001b[0m",
      "\u001b[0;31mValueError\u001b[0m                                Traceback (most recent call last)",
      "\u001b[0;32m<ipython-input-56-c5be872d7a5d>\u001b[0m in \u001b[0;36m<module>\u001b[0;34m()\u001b[0m\n\u001b[1;32m      2\u001b[0m \u001b[0;34m\u001b[0m\u001b[0m\n\u001b[1;32m      3\u001b[0m \u001b[0;31m# Drop multi-valued discrete data columns\u001b[0m\u001b[0;34m\u001b[0m\u001b[0;34m\u001b[0m\u001b[0m\n\u001b[0;32m----> 4\u001b[0;31m \u001b[0md\u001b[0m\u001b[0;34m.\u001b[0m\u001b[0mdrop\u001b[0m\u001b[0;34m(\u001b[0m\u001b[0;34m[\u001b[0m\u001b[0;34m'cylinders'\u001b[0m\u001b[0;34m,\u001b[0m\u001b[0;34m'model_year'\u001b[0m\u001b[0;34m,\u001b[0m\u001b[0;34m'origin'\u001b[0m\u001b[0;34m,\u001b[0m\u001b[0;34m'dummy'\u001b[0m\u001b[0;34m]\u001b[0m\u001b[0;34m,\u001b[0m\u001b[0minplace\u001b[0m\u001b[0;34m=\u001b[0m\u001b[0;32mTrue\u001b[0m\u001b[0;34m,\u001b[0m\u001b[0maxis\u001b[0m\u001b[0;34m=\u001b[0m\u001b[0;36m1\u001b[0m\u001b[0;34m)\u001b[0m\u001b[0;34m\u001b[0m\u001b[0m\n\u001b[0m",
      "\u001b[0;32m/Users/rrkelley/anaconda/lib/python3.5/site-packages/pandas/core/generic.py\u001b[0m in \u001b[0;36mdrop\u001b[0;34m(self, labels, axis, level, inplace, errors)\u001b[0m\n\u001b[1;32m   2159\u001b[0m                 \u001b[0mnew_axis\u001b[0m \u001b[0;34m=\u001b[0m \u001b[0maxis\u001b[0m\u001b[0;34m.\u001b[0m\u001b[0mdrop\u001b[0m\u001b[0;34m(\u001b[0m\u001b[0mlabels\u001b[0m\u001b[0;34m,\u001b[0m \u001b[0mlevel\u001b[0m\u001b[0;34m=\u001b[0m\u001b[0mlevel\u001b[0m\u001b[0;34m,\u001b[0m \u001b[0merrors\u001b[0m\u001b[0;34m=\u001b[0m\u001b[0merrors\u001b[0m\u001b[0;34m)\u001b[0m\u001b[0;34m\u001b[0m\u001b[0m\n\u001b[1;32m   2160\u001b[0m             \u001b[0;32melse\u001b[0m\u001b[0;34m:\u001b[0m\u001b[0;34m\u001b[0m\u001b[0m\n\u001b[0;32m-> 2161\u001b[0;31m                 \u001b[0mnew_axis\u001b[0m \u001b[0;34m=\u001b[0m \u001b[0maxis\u001b[0m\u001b[0;34m.\u001b[0m\u001b[0mdrop\u001b[0m\u001b[0;34m(\u001b[0m\u001b[0mlabels\u001b[0m\u001b[0;34m,\u001b[0m \u001b[0merrors\u001b[0m\u001b[0;34m=\u001b[0m\u001b[0merrors\u001b[0m\u001b[0;34m)\u001b[0m\u001b[0;34m\u001b[0m\u001b[0m\n\u001b[0m\u001b[1;32m   2162\u001b[0m             \u001b[0mdropped\u001b[0m \u001b[0;34m=\u001b[0m \u001b[0mself\u001b[0m\u001b[0;34m.\u001b[0m\u001b[0mreindex\u001b[0m\u001b[0;34m(\u001b[0m\u001b[0;34m**\u001b[0m\u001b[0;34m{\u001b[0m\u001b[0maxis_name\u001b[0m\u001b[0;34m:\u001b[0m \u001b[0mnew_axis\u001b[0m\u001b[0;34m}\u001b[0m\u001b[0;34m)\u001b[0m\u001b[0;34m\u001b[0m\u001b[0m\n\u001b[1;32m   2163\u001b[0m             \u001b[0;32mtry\u001b[0m\u001b[0;34m:\u001b[0m\u001b[0;34m\u001b[0m\u001b[0m\n",
      "\u001b[0;32m/Users/rrkelley/anaconda/lib/python3.5/site-packages/pandas/core/indexes/base.py\u001b[0m in \u001b[0;36mdrop\u001b[0;34m(self, labels, errors)\u001b[0m\n\u001b[1;32m   3622\u001b[0m             \u001b[0;32mif\u001b[0m \u001b[0merrors\u001b[0m \u001b[0;34m!=\u001b[0m \u001b[0;34m'ignore'\u001b[0m\u001b[0;34m:\u001b[0m\u001b[0;34m\u001b[0m\u001b[0m\n\u001b[1;32m   3623\u001b[0m                 raise ValueError('labels %s not contained in axis' %\n\u001b[0;32m-> 3624\u001b[0;31m                                  labels[mask])\n\u001b[0m\u001b[1;32m   3625\u001b[0m             \u001b[0mindexer\u001b[0m \u001b[0;34m=\u001b[0m \u001b[0mindexer\u001b[0m\u001b[0;34m[\u001b[0m\u001b[0;34m~\u001b[0m\u001b[0mmask\u001b[0m\u001b[0;34m]\u001b[0m\u001b[0;34m\u001b[0m\u001b[0m\n\u001b[1;32m   3626\u001b[0m         \u001b[0;32mreturn\u001b[0m \u001b[0mself\u001b[0m\u001b[0;34m.\u001b[0m\u001b[0mdelete\u001b[0m\u001b[0;34m(\u001b[0m\u001b[0mindexer\u001b[0m\u001b[0;34m)\u001b[0m\u001b[0;34m\u001b[0m\u001b[0m\n",
      "\u001b[0;31mValueError\u001b[0m: labels ['cylinders' 'model_year' 'origin' 'dummy'] not contained in axis"
     ]
    }
   ],
   "source": [
    "d=d.dropna(axis=0, how='any')  # Drop the blanks\n",
    "\n",
    "# Drop multi-valued discrete data columns\n",
    "d.drop(['cylinders','model_year','origin','dummy'],inplace=True,axis=1) "
   ]
  },
  {
   "cell_type": "code",
   "execution_count": 57,
   "metadata": {},
   "outputs": [
    {
     "data": {
      "text/plain": [
       "Index(['x1', 'x2', 'x3', 'x4', 'y'], dtype='object')"
      ]
     },
     "execution_count": 57,
     "metadata": {},
     "output_type": "execute_result"
    }
   ],
   "source": [
    "d.columns"
   ]
  },
  {
   "cell_type": "markdown",
   "metadata": {},
   "source": [
    "## Preparation of the variables\n",
    "\n",
    "We need to divide the data into several sets:\n",
    "* **X_train** - Independent variables (features) used for training\n",
    "* **Y_train** - Dependent variable (target) used for training\n",
    "* **X_validate** - Independent variables (features) used for adjusting the model parameters\n",
    "* **Y_validate** - Dependent variable (target) used for adjusting the model parameters\n",
    "* **X_test** - Independing variables (features) used for testing the performance of the final model\n",
    "* **Y_test** - Dependent variable (target) use for testing the performance of the final model\n",
    "\n",
    "I am using the train_test_split function from the sklearn.model_selection library twice. Once to get the training set, then another time to divide the remaining data into validation and testing datasets."
   ]
  },
  {
   "cell_type": "code",
   "execution_count": 58,
   "metadata": {
    "collapsed": true
   },
   "outputs": [],
   "source": [
    "X_train, Y_train, X_validate, Y_validate, X_test, Y_test = prep_data(d,8)"
   ]
  },
  {
   "cell_type": "markdown",
   "metadata": {},
   "source": [
    "I can also normalize my values as another way to prep the data.  Below is an example how to do this, but I will do it later in the experiments one by one."
   ]
  },
  {
   "cell_type": "code",
   "execution_count": 59,
   "metadata": {
    "collapsed": true
   },
   "outputs": [],
   "source": [
    "X_train_normed, Y_train_normed, X_validate_normed, Y_validate_normed, X_test_normed, Y_test_normed = normalize_data(X_train, Y_train, X_validate, Y_validate, X_test, Y_test)"
   ]
  },
  {
   "cell_type": "markdown",
   "metadata": {},
   "source": [
    "## My Model - Linear Regression\n",
    "Since this is an example notebook, I am not actually coding the Linear Regression Model myself. In your projects, this is where you would include your code to implement your algorithm. You may also put some or all of your implementation in the Functions section as long as it is clear where I can find it."
   ]
  },
  {
   "cell_type": "markdown",
   "metadata": {},
   "source": [
    "## Experiment One - Linear Regression all variables\n",
    "This run will include all of the independent variables with unnormalized values."
   ]
  },
  {
   "cell_type": "code",
   "execution_count": 66,
   "metadata": {},
   "outputs": [
    {
     "name": "stdout",
     "output_type": "stream",
     "text": [
      "===================================\n",
      "Experiment 1 Replicate 1\n",
      "===================================\n",
      "Model Coefficients w\\Intercept: \n",
      " [ 44.07939326] [[-0.0057032  -0.04959351 -0.00507307  0.04716263]] \n",
      "\n",
      "Validate\n",
      "===================================\n",
      "Coefficient of Determination: 0.58\n",
      "Mean squared error: 19.25\n",
      "\n",
      "Test\n",
      "===================================\n",
      "Coefficient of Determination: 0.70\n",
      "Mean squared error: 25.37\n"
     ]
    },
    {
     "data": {
      "image/png": "[encoded data removed]",
      "text/plain": [
       "<matplotlib.figure.Figure at 0x113d697b8>"
      ]
     },
     "metadata": {},
     "output_type": "display_data"
    }
   ],
   "source": [
    "my_lr(X_train,Y_train,X_validate,Y_validate,X_test,Y_test,\"Experiment 1\",\"Replicate 1\")"
   ]
  },
  {
   "cell_type": "code",
   "execution_count": 61,
   "metadata": {},
   "outputs": [
    {
     "name": "stdout",
     "output_type": "stream",
     "text": [
      "===================================\n",
      "Experiment 1 Replicate 2\n",
      "===================================\n",
      "Model Coefficients w\\Intercept: \n",
      " [ 48.1864818] [[-0.00809207 -0.06256325 -0.00447291 -0.20524705]] \n",
      "\n",
      "Validate\n",
      "===================================\n",
      "Coefficient of Determination: 0.57\n",
      "Mean squared error: 22.11\n",
      "\n",
      "Test\n",
      "===================================\n",
      "Coefficient of Determination: 0.73\n",
      "Mean squared error: 17.01\n"
     ]
    },
    {
     "data": {
      "image/png": "[encoded data removed]",
      "text/plain": [
       "<matplotlib.figure.Figure at 0x114405588>"
      ]
     },
     "metadata": {},
     "output_type": "display_data"
    }
   ],
   "source": [
    "X_train, Y_train, X_validate, Y_validate, X_test, Y_test = prep_data(d,80)\n",
    "my_lr(X_train,Y_train,X_validate,Y_validate,X_test,Y_test,\"Experiment 1\",\"Replicate 2\")"
   ]
  },
  {
   "cell_type": "code",
   "execution_count": 62,
   "metadata": {},
   "outputs": [
    {
     "name": "stdout",
     "output_type": "stream",
     "text": [
      "===================================\n",
      "Experiment 1 Replicate 3\n",
      "===================================\n",
      "Model Coefficients w\\Intercept: \n",
      " [ 46.30690056] [[-0.01112645 -0.04337804 -0.00480567 -0.12612376]] \n",
      "\n",
      "Validate\n",
      "===================================\n",
      "Coefficient of Determination: 0.78\n",
      "Mean squared error: 13.43\n",
      "\n",
      "Test\n",
      "===================================\n",
      "Coefficient of Determination: 0.66\n",
      "Mean squared error: 23.98\n"
     ]
    },
    {
     "data": {
      "image/png": "[encoded data removed]",
      "text/plain": [
       "<matplotlib.figure.Figure at 0x113084780>"
      ]
     },
     "metadata": {},
     "output_type": "display_data"
    }
   ],
   "source": [
    "X_train, Y_train, X_validate, Y_validate, X_test, Y_test = prep_data(d,80)\n",
    "my_lr(X_train,Y_train,X_validate,Y_validate,X_test,Y_test,\"Experiment 1\",\"Replicate 3\")"
   ]
  },
  {
   "cell_type": "markdown",
   "metadata": {},
   "source": [
    "The lowest MSE was 17.01 with an r-squared of .73.  OK, performance, but still significant instability in the prediction."
   ]
  },
  {
   "cell_type": "markdown",
   "metadata": {},
   "source": [
    "## Experiment Two- Linear Regression all variables (Normalized)\n",
    "Sometimes you can get better performance by normalizing the variables before you run the model. We are going to do this to see if we get any improvement in the model."
   ]
  },
  {
   "cell_type": "code",
   "execution_count": 67,
   "metadata": {},
   "outputs": [
    {
     "name": "stdout",
     "output_type": "stream",
     "text": [
      "===================================\n",
      "Experiment 2 Replicate 1\n",
      "===================================\n",
      "Model Coefficients w\\Intercept: \n",
      " [ -2.85138317e-16] [[-0.15872188 -0.18422498 -0.52443884 -0.00754182]] \n",
      "\n",
      "Validate\n",
      "===================================\n",
      "Coefficient of Determination: 0.71\n",
      "Mean squared error: 0.26\n",
      "\n",
      "Test\n",
      "===================================\n",
      "Coefficient of Determination: 0.71\n",
      "Mean squared error: 0.27\n"
     ]
    },
    {
     "data": {
      "image/png": "[encoded data removed]",
      "text/plain": [
       "<matplotlib.figure.Figure at 0x112ee9dd8>"
      ]
     },
     "metadata": {},
     "output_type": "display_data"
    }
   ],
   "source": [
    "X_train, Y_train, X_validate, Y_validate, X_test, Y_test = prep_data(d,80)\n",
    "X_train_normed, Y_train_normed, X_validate_normed, Y_validate_normed, X_test_normed, Y_test_normed = normalize_data(X_train, Y_train, X_validate, Y_validate, X_test, Y_test)\n",
    "my_lr(X_train_normed,Y_train_normed,X_validate_normed,Y_validate_normed,X_test_normed,Y_test_normed,\"Experiment 2\",\"Replicate 1\")"
   ]
  },
  {
   "cell_type": "code",
   "execution_count": 68,
   "metadata": {},
   "outputs": [
    {
     "name": "stdout",
     "output_type": "stream",
     "text": [
      "===================================\n",
      "Experiment 2 Replicate 2\n",
      "===================================\n",
      "Model Coefficients w\\Intercept: \n",
      " [ -4.08277908e-16] [[-0.10608603 -0.12749682 -0.63212038 -0.00124752]] \n",
      "\n",
      "Validate\n",
      "===================================\n",
      "Coefficient of Determination: 0.72\n",
      "Mean squared error: 0.33\n",
      "\n",
      "Test\n",
      "===================================\n",
      "Coefficient of Determination: 0.59\n",
      "Mean squared error: 0.42\n"
     ]
    },
    {
     "data": {
      "image/png": "[encoded data removed]",
      "text/plain": [
       "<matplotlib.figure.Figure at 0x1134721d0>"
      ]
     },
     "metadata": {},
     "output_type": "display_data"
    }
   ],
   "source": [
    "X_train, Y_train, X_validate, Y_validate, X_test, Y_test = prep_data(d,80)\n",
    "X_train_normed, Y_train_normed, X_validate_normed, Y_validate_normed, X_test_normed, Y_test_normed = normalize_data(X_train, Y_train, X_validate, Y_validate, X_test, Y_test)\n",
    "my_lr(X_train_normed,Y_train_normed,X_validate_normed,Y_validate_normed,X_test_normed,Y_test_normed,\"Experiment 2\",\"Replicate 2\")"
   ]
  },
  {
   "cell_type": "code",
   "execution_count": 69,
   "metadata": {},
   "outputs": [
    {
     "name": "stdout",
     "output_type": "stream",
     "text": [
      "===================================\n",
      "Experiment 2 Replicate 3\n",
      "===================================\n",
      "Model Coefficients w\\Intercept: \n",
      " [ -2.92279557e-16] [[-0.13191826 -0.21783462 -0.52953377 -0.03817059]] \n",
      "\n",
      "Validate\n",
      "===================================\n",
      "Coefficient of Determination: 0.75\n",
      "Mean squared error: 0.17\n",
      "\n",
      "Test\n",
      "===================================\n",
      "Coefficient of Determination: 0.78\n",
      "Mean squared error: 0.20\n"
     ]
    },
    {
     "data": {
      "image/png": "[encoded data removed]",
      "text/plain": [
       "<matplotlib.figure.Figure at 0x113472160>"
      ]
     },
     "metadata": {},
     "output_type": "display_data"
    }
   ],
   "source": [
    "X_train, Y_train, X_validate, Y_validate, X_test, Y_test = prep_data(d,80)\n",
    "X_train_normed, Y_train_normed, X_validate_normed, Y_validate_normed, X_test_normed, Y_test_normed = normalize_data(X_train, Y_train, X_validate, Y_validate, X_test, Y_test)\n",
    "my_lr(X_train_normed,Y_train_normed,X_validate_normed,Y_validate_normed,X_test_normed,Y_test_normed,\"Experiment 2\",\"Replicate 3\")"
   ]
  },
  {
   "cell_type": "markdown",
   "metadata": {},
   "source": [
    "The last replicate provided an r-squared of 0.78, better than the best in our last experiment, but still a weak predictor."
   ]
  },
  {
   "cell_type": "markdown",
   "metadata": {},
   "source": [
    "## Experiment Three - Linear Regression with all variables, but split 70/15/15\n",
    "Trying this with only the independent variables unnormalized, but with a different split for train, validate and test"
   ]
  },
  {
   "cell_type": "code",
   "execution_count": 70,
   "metadata": {},
   "outputs": [
    {
     "name": "stdout",
     "output_type": "stream",
     "text": [
      "===================================\n",
      "Experiment 3 Replicate 1\n",
      "===================================\n",
      "Model Coefficients w\\Intercept: \n",
      " [ 46.12038746] [[-0.00548349 -0.04206509 -0.005542   -0.0464708 ]] \n",
      "\n",
      "Validate\n",
      "===================================\n",
      "Coefficient of Determination: 0.75\n",
      "Mean squared error: 14.78\n",
      "\n",
      "Test\n",
      "===================================\n",
      "Coefficient of Determination: 0.67\n",
      "Mean squared error: 19.14\n"
     ]
    },
    {
     "data": {
      "image/png": "[encoded data removed]",
      "text/plain": [
       "<matplotlib.figure.Figure at 0x113d92eb8>"
      ]
     },
     "metadata": {},
     "output_type": "display_data"
    }
   ],
   "source": [
    "X_train, Y_train, X_validate, Y_validate, X_test, Y_test = prep_data(d,70)\n",
    "my_lr(X_train,Y_train,X_validate,Y_validate,X_test,Y_test,\"Experiment 3\",\"Replicate 1\")"
   ]
  },
  {
   "cell_type": "code",
   "execution_count": 71,
   "metadata": {},
   "outputs": [
    {
     "name": "stdout",
     "output_type": "stream",
     "text": [
      "===================================\n",
      "Experiment 3 Replicate 2\n",
      "===================================\n",
      "Model Coefficients w\\Intercept: \n",
      " [ 45.47013637] [[-0.01346728 -0.03754137 -0.00448653 -0.13830099]] \n",
      "\n",
      "Validate\n",
      "===================================\n",
      "Coefficient of Determination: 0.62\n",
      "Mean squared error: 23.61\n",
      "\n",
      "Test\n",
      "===================================\n",
      "Coefficient of Determination: 0.77\n",
      "Mean squared error: 15.19\n"
     ]
    },
    {
     "data": {
      "image/png": "[encoded data removed]",
      "text/plain": [
       "<matplotlib.figure.Figure at 0x114306940>"
      ]
     },
     "metadata": {},
     "output_type": "display_data"
    }
   ],
   "source": [
    "X_train, Y_train, X_validate, Y_validate, X_test, Y_test = prep_data(d,70)\n",
    "my_lr(X_train,Y_train,X_validate,Y_validate,X_test,Y_test,\"Experiment 3\",\"Replicate 2\")"
   ]
  },
  {
   "cell_type": "code",
   "execution_count": 72,
   "metadata": {},
   "outputs": [
    {
     "name": "stdout",
     "output_type": "stream",
     "text": [
      "===================================\n",
      "Experiment 3 Replicate 3\n",
      "===================================\n",
      "Model Coefficients w\\Intercept: \n",
      " [ 44.49812662] [[-0.01002452 -0.03605192 -0.00501716 -0.03239604]] \n",
      "\n",
      "Validate\n",
      "===================================\n",
      "Coefficient of Determination: 0.76\n",
      "Mean squared error: 14.05\n",
      "\n",
      "Test\n",
      "===================================\n",
      "Coefficient of Determination: 0.70\n",
      "Mean squared error: 17.16\n"
     ]
    },
    {
     "data": {
      "image/png": "[encoded data removed]",
      "text/plain": [
       "<matplotlib.figure.Figure at 0x113d67b38>"
      ]
     },
     "metadata": {},
     "output_type": "display_data"
    }
   ],
   "source": [
    "X_train, Y_train, X_validate, Y_validate, X_test, Y_test = prep_data(d,70)\n",
    "my_lr(X_train,Y_train,X_validate,Y_validate,X_test,Y_test,\"Experiment 3\",\"Replicate 3\")"
   ]
  },
  {
   "cell_type": "markdown",
   "metadata": {},
   "source": [
    "Highest r-squared is 0.75. Provides about the same performance as our previous experiments."
   ]
  },
  {
   "cell_type": "markdown",
   "metadata": {},
   "source": [
    "## Experiment Four - Linear Regression with all normalized variables, but split 70/15/15\n",
    "Trying this with only the independent variables normalized, but with a different split for train, validate and test"
   ]
  },
  {
   "cell_type": "code",
   "execution_count": 73,
   "metadata": {},
   "outputs": [
    {
     "name": "stdout",
     "output_type": "stream",
     "text": [
      "===================================\n",
      "Experiment 4 Replicate 1\n",
      "===================================\n",
      "Model Coefficients w\\Intercept: \n",
      " [  1.13846604e-16] [[ -5.11338452e-02  -2.20202163e-01  -6.00881266e-01   1.26649144e-04]] \n",
      "\n",
      "Validate\n",
      "===================================\n",
      "Coefficient of Determination: 0.68\n",
      "Mean squared error: 0.32\n",
      "\n",
      "Test\n",
      "===================================\n",
      "Coefficient of Determination: 0.67\n",
      "Mean squared error: 0.27\n"
     ]
    },
    {
     "data": {
      "image/png": "[encoded data removed]",
      "text/plain": [
       "<matplotlib.figure.Figure at 0x113cf06a0>"
      ]
     },
     "metadata": {},
     "output_type": "display_data"
    }
   ],
   "source": [
    "X_train, Y_train, X_validate, Y_validate, X_test, Y_test = prep_data(d,70)\n",
    "X_train_normed, Y_train_normed, X_validate_normed, Y_validate_normed, X_test_normed, Y_test_normed = normalize_data(X_train, Y_train, X_validate, Y_validate, X_test, Y_test)\n",
    "my_lr(X_train_normed,Y_train_normed,X_validate_normed,Y_validate_normed,X_test_normed,Y_test_normed,\"Experiment 4\",\"Replicate 1\")"
   ]
  },
  {
   "cell_type": "code",
   "execution_count": 74,
   "metadata": {},
   "outputs": [
    {
     "name": "stdout",
     "output_type": "stream",
     "text": [
      "===================================\n",
      "Experiment 4 Replicate 2\n",
      "===================================\n",
      "Model Coefficients w\\Intercept: \n",
      " [ -1.11412847e-15] [[-0.02687148 -0.25932072 -0.58824317 -0.02392258]] \n",
      "\n",
      "Validate\n",
      "===================================\n",
      "Coefficient of Determination: 0.65\n",
      "Mean squared error: 0.40\n",
      "\n",
      "Test\n",
      "===================================\n",
      "Coefficient of Determination: 0.76\n",
      "Mean squared error: 0.28\n"
     ]
    },
    {
     "data": {
      "image/png": "[encoded data removed]",
      "text/plain": [
       "<matplotlib.figure.Figure at 0x113cf0a20>"
      ]
     },
     "metadata": {},
     "output_type": "display_data"
    }
   ],
   "source": [
    "X_train, Y_train, X_validate, Y_validate, X_test, Y_test = prep_data(d,70)\n",
    "X_train_normed, Y_train_normed, X_validate_normed, Y_validate_normed, X_test_normed, Y_test_normed = normalize_data(X_train, Y_train, X_validate, Y_validate, X_test, Y_test)\n",
    "my_lr(X_train_normed,Y_train_normed,X_validate_normed,Y_validate_normed,X_test_normed,Y_test_normed,\"Experiment 4\",\"Replicate 2\")"
   ]
  },
  {
   "cell_type": "code",
   "execution_count": 75,
   "metadata": {},
   "outputs": [
    {
     "name": "stdout",
     "output_type": "stream",
     "text": [
      "===================================\n",
      "Experiment 4 Replicate 3\n",
      "===================================\n",
      "Model Coefficients w\\Intercept: \n",
      " [ -5.93274512e-16] [[-0.12458138 -0.20467692 -0.56230923 -0.01082858]] \n",
      "\n",
      "Validate\n",
      "===================================\n",
      "Coefficient of Determination: 0.61\n",
      "Mean squared error: 0.38\n",
      "\n",
      "Test\n",
      "===================================\n",
      "Coefficient of Determination: 0.62\n",
      "Mean squared error: 0.28\n"
     ]
    },
    {
     "data": {
      "image/png": "[encoded data removed]",
      "text/plain": [
       "<matplotlib.figure.Figure at 0x11341b940>"
      ]
     },
     "metadata": {},
     "output_type": "display_data"
    }
   ],
   "source": [
    "X_train, Y_train, X_validate, Y_validate, X_test, Y_test = prep_data(d,70)\n",
    "X_train_normed, Y_train_normed, X_validate_normed, Y_validate_normed, X_test_normed, Y_test_normed = normalize_data(X_train, Y_train, X_validate, Y_validate, X_test, Y_test)\n",
    "my_lr(X_train_normed,Y_train_normed,X_validate_normed,Y_validate_normed,X_test_normed,Y_test_normed,\"Experiment 4\",\"Replicate 3\")"
   ]
  },
  {
   "cell_type": "markdown",
   "metadata": {},
   "source": [
    "Best r-squared was 0.76, still consistent with previous experiments."
   ]
  },
  {
   "cell_type": "markdown",
   "metadata": {},
   "source": [
    "## Experiment Five - Linear Regression with transform Displacement, Horsepower, and Weight\n",
    "It looks like displacement, horsepower and weight might have a quadratic relationship to mpg.  Let's make this transformation to these variables (and drop acceleration) to see if that improves our model. "
   ]
  },
  {
   "cell_type": "code",
   "execution_count": 76,
   "metadata": {},
   "outputs": [
    {
     "name": "stdout",
     "output_type": "stream",
     "text": [
      "===================================\n",
      "Experiment 5 Replicate 1\n",
      "===================================\n",
      "Model Coefficients w\\Intercept: \n",
      " [ 64.66732888] [[-0.26122492 -1.02895008 -0.50765187]] \n",
      "\n",
      "Validate\n",
      "===================================\n",
      "Coefficient of Determination: 0.75\n",
      "Mean squared error: 16.90\n",
      "\n",
      "Test\n",
      "===================================\n",
      "Coefficient of Determination: 0.69\n",
      "Mean squared error: 19.94\n"
     ]
    },
    {
     "data": {
      "image/png": "[encoded data removed]",
      "text/plain": [
       "<matplotlib.figure.Figure at 0x1130be198>"
      ]
     },
     "metadata": {},
     "output_type": "display_data"
    }
   ],
   "source": [
    "X_train, Y_train, X_validate, Y_validate, X_test, Y_test = prep_data(d,70)\n",
    "X_train = X_train.as_matrix()\n",
    "X_train = np.sqrt(X_train[:,0:3])\n",
    "X_validate = X_validate.as_matrix()\n",
    "X_validate = np.sqrt(X_validate[:,0:3])\n",
    "X_test = X_test.as_matrix()\n",
    "X_test = np.sqrt(X_test[:,0:3])\n",
    "my_lr(X_train,Y_train,X_validate,Y_validate,X_test,Y_test,\"Experiment 5\",\"Replicate 1\")"
   ]
  },
  {
   "cell_type": "code",
   "execution_count": 77,
   "metadata": {},
   "outputs": [
    {
     "name": "stdout",
     "output_type": "stream",
     "text": [
      "===================================\n",
      "Experiment 5 Replicate 2\n",
      "===================================\n",
      "Model Coefficients w\\Intercept: \n",
      " [ 64.89694886] [[-0.24008451 -0.99655445 -0.52450641]] \n",
      "\n",
      "Validate\n",
      "===================================\n",
      "Coefficient of Determination: 0.63\n",
      "Mean squared error: 25.34\n",
      "\n",
      "Test\n",
      "===================================\n",
      "Coefficient of Determination: 0.75\n",
      "Mean squared error: 17.53\n"
     ]
    },
    {
     "data": {
      "image/png": "[encoded data removed]",
      "text/plain": [
       "<matplotlib.figure.Figure at 0x11372f748>"
      ]
     },
     "metadata": {},
     "output_type": "display_data"
    }
   ],
   "source": [
    "X_train, Y_train, X_validate, Y_validate, X_test, Y_test = prep_data(d,70)\n",
    "X_train = X_train.as_matrix()\n",
    "X_train = np.sqrt(X_train[:,0:3])\n",
    "X_validate = X_validate.as_matrix()\n",
    "X_validate = np.sqrt(X_validate[:,0:3])\n",
    "X_test = X_test.as_matrix()\n",
    "X_test = np.sqrt(X_test[:,0:3])\n",
    "my_lr(X_train,Y_train,X_validate,Y_validate,X_test,Y_test,\"Experiment 5\",\"Replicate 2\")"
   ]
  },
  {
   "cell_type": "code",
   "execution_count": 78,
   "metadata": {},
   "outputs": [
    {
     "name": "stdout",
     "output_type": "stream",
     "text": [
      "===================================\n",
      "Experiment 5 Replicate 3\n",
      "===================================\n",
      "Model Coefficients w\\Intercept: \n",
      " [ 67.92621862] [[-0.16385783 -1.0876045  -0.57914814]] \n",
      "\n",
      "Validate\n",
      "===================================\n",
      "Coefficient of Determination: 0.69\n",
      "Mean squared error: 17.22\n",
      "\n",
      "Test\n",
      "===================================\n",
      "Coefficient of Determination: 0.70\n",
      "Mean squared error: 18.59\n"
     ]
    },
    {
     "data": {
      "image/png": "[encoded data removed]",
      "text/plain": [
       "<matplotlib.figure.Figure at 0x113740f98>"
      ]
     },
     "metadata": {},
     "output_type": "display_data"
    }
   ],
   "source": [
    "X_train, Y_train, X_validate, Y_validate, X_test, Y_test = prep_data(d,70)\n",
    "X_train = X_train.as_matrix()\n",
    "X_train = np.sqrt(X_train[:,0:3])\n",
    "X_validate = X_validate.as_matrix()\n",
    "X_validate = np.sqrt(X_validate[:,0:3])\n",
    "X_test = X_test.as_matrix()\n",
    "X_test = np.sqrt(X_test[:,0:3])\n",
    "my_lr(X_train,Y_train,X_validate,Y_validate,X_test,Y_test,\"Experiment 5\",\"Replicate 3\")"
   ]
  },
  {
   "cell_type": "markdown",
   "metadata": {},
   "source": [
    "Consistently higher r-squared values than our previous experiments. The transformation seemed to improved the model."
   ]
  },
  {
   "cell_type": "markdown",
   "metadata": {},
   "source": [
    "## Experiment Six - Linear Regression with transform Displacement, Horsepower, and Weight - and Acceleration (Unchanged)\n",
    "It looks like displacement, horsepower and weight might have a quadratic relationship to mpg.  Let's make this transformation to these variables (and we'll leave acceleration the same) to see if that improves our model. "
   ]
  },
  {
   "cell_type": "code",
   "execution_count": 79,
   "metadata": {},
   "outputs": [
    {
     "name": "stdout",
     "output_type": "stream",
     "text": [
      "===================================\n",
      "Experiment 5 Replicate 1\n",
      "===================================\n",
      "Model Coefficients w\\Intercept: \n",
      " [ 67.23058306] [[-0.2468909  -1.72231523 -0.39267214 -0.11719014]] \n",
      "\n",
      "Validate\n",
      "===================================\n",
      "Coefficient of Determination: 0.69\n",
      "Mean squared error: 17.11\n",
      "\n",
      "Test\n",
      "===================================\n",
      "Coefficient of Determination: 0.71\n",
      "Mean squared error: 19.29\n"
     ]
    },
    {
     "data": {
      "image/png": "[encoded data removed]",
      "text/plain": [
       "<matplotlib.figure.Figure at 0x1130cc198>"
      ]
     },
     "metadata": {},
     "output_type": "display_data"
    }
   ],
   "source": [
    "X_train, Y_train, X_validate, Y_validate, X_test, Y_test = prep_data(d,70)\n",
    "X_train = X_train.as_matrix()\n",
    "X_train = np.hstack((np.sqrt(X_train[:,0:3]),X_train[:,3:4]))\n",
    "\n",
    "X_validate = X_validate.as_matrix()\n",
    "X_validate = np.hstack((np.sqrt(X_validate[:,0:3]),X_validate[:,3:4]))\n",
    "\n",
    "X_test = X_test.as_matrix()\n",
    "X_test = np.hstack((np.sqrt(X_test[:,0:3]),X_test[:,3:4]))\n",
    "\n",
    "my_lr(X_train,Y_train,X_validate,Y_validate,X_test,Y_test,\"Experiment 6\",\"Replicate 1\")"
   ]
  },
  {
   "cell_type": "code",
   "execution_count": 80,
   "metadata": {},
   "outputs": [
    {
     "name": "stdout",
     "output_type": "stream",
     "text": [
      "===================================\n",
      "Experiment 5 Replicate 2\n",
      "===================================\n",
      "Model Coefficients w\\Intercept: \n",
      " [ 67.66756665] [[-0.38206659 -1.19364766 -0.45720839 -0.15197986]] \n",
      "\n",
      "Validate\n",
      "===================================\n",
      "Coefficient of Determination: 0.79\n",
      "Mean squared error: 12.56\n",
      "\n",
      "Test\n",
      "===================================\n",
      "Coefficient of Determination: 0.74\n",
      "Mean squared error: 19.38\n"
     ]
    },
    {
     "data": {
      "image/png": "[encoded data removed]",
      "text/plain": [
       "<matplotlib.figure.Figure at 0x113c62a58>"
      ]
     },
     "metadata": {},
     "output_type": "display_data"
    }
   ],
   "source": [
    "X_train, Y_train, X_validate, Y_validate, X_test, Y_test = prep_data(d,70)\n",
    "X_train = X_train.as_matrix()\n",
    "X_train = np.hstack((np.sqrt(X_train[:,0:3]),X_train[:,3:4]))\n",
    "\n",
    "X_validate = X_validate.as_matrix()\n",
    "X_validate = np.hstack((np.sqrt(X_validate[:,0:3]),X_validate[:,3:4]))\n",
    "\n",
    "X_test = X_test.as_matrix()\n",
    "X_test = np.hstack((np.sqrt(X_test[:,0:3]),X_test[:,3:4]))\n",
    "\n",
    "my_lr(X_train,Y_train,X_validate,Y_validate,X_test,Y_test,\"Experiment 6\",\"Replicate 2\")"
   ]
  },
  {
   "cell_type": "code",
   "execution_count": 81,
   "metadata": {},
   "outputs": [
    {
     "name": "stdout",
     "output_type": "stream",
     "text": [
      "===================================\n",
      "Experiment 5 Replicate 3\n",
      "===================================\n",
      "Model Coefficients w\\Intercept: \n",
      " [ 66.75451667] [[-0.33538403 -1.39478292 -0.41415129 -0.16296443]] \n",
      "\n",
      "Validate\n",
      "===================================\n",
      "Coefficient of Determination: 0.72\n",
      "Mean squared error: 20.49\n",
      "\n",
      "Test\n",
      "===================================\n",
      "Coefficient of Determination: 0.76\n",
      "Mean squared error: 14.55\n"
     ]
    },
    {
     "data": {
      "image/png": "[encoded data removed]",
      "text/plain": [
       "<matplotlib.figure.Figure at 0x112ea2470>"
      ]
     },
     "metadata": {},
     "output_type": "display_data"
    }
   ],
   "source": [
    "X_train, Y_train, X_validate, Y_validate, X_test, Y_test = prep_data(d,70)\n",
    "X_train = X_train.as_matrix()\n",
    "X_train = np.hstack((np.sqrt(X_train[:,0:3]),X_train[:,3:4]))\n",
    "\n",
    "X_validate = X_validate.as_matrix()\n",
    "X_validate = np.hstack((np.sqrt(X_validate[:,0:3]),X_validate[:,3:4]))\n",
    "\n",
    "X_test = X_test.as_matrix()\n",
    "X_test = np.hstack((np.sqrt(X_test[:,0:3]),X_test[:,3:4]))\n",
    "\n",
    "my_lr(X_train,Y_train,X_validate,Y_validate,X_test,Y_test,\"Experiment 6\",\"Replicate 3\")"
   ]
  },
  {
   "cell_type": "markdown",
   "metadata": {},
   "source": [
    "Again, consistently better results than our previous experiments.  The tranformation on the three variables that showed a curved relationship improved the model."
   ]
  },
  {
   "cell_type": "markdown",
   "metadata": {},
   "source": [
    "## Experiment Seven - Linear Regression with transformed Displacement, Horsepower, and Weight, Acceleration (Unchanged) and categorical variables included.\n",
    "Transforming displacement, horsepower and weight gave us our consistently strongest models.  However, we may be missing some information by not using the categorical variables.  This experiment will add those variables. We will have to reread the data set and perform some other manipulations to be able to incorporate this as the original prep_data function only accounts for the continuous variables."
   ]
  },
  {
   "cell_type": "code",
   "execution_count": 117,
   "metadata": {
    "collapsed": true
   },
   "outputs": [],
   "source": [
    "data=pd.read_csv(\"mpg.csv\")\n",
    "data=data.dropna(axis=0, how='any')  # Drop the blanks"
   ]
  },
  {
   "cell_type": "code",
   "execution_count": 120,
   "metadata": {
    "collapsed": true
   },
   "outputs": [],
   "source": [
    "data.columns = [\"x1\",\"x2\",\"x3\",\"x4\",\"x5\",\"x6\",\"x7\",\"y\"]"
   ]
  },
  {
   "cell_type": "markdown",
   "metadata": {},
   "source": [
    "Using the patsy library, create dummy variables for each categorical variable and apply sqrt transform on displacement, horsepower, and weight."
   ]
  },
  {
   "cell_type": "code",
   "execution_count": 309,
   "metadata": {
    "collapsed": true
   },
   "outputs": [],
   "source": [
    "x1 = np.asarray(dmatrix(\"0 + C(x1)\", data))\n",
    "x6 = np.asarray(dmatrix(\"0 + C(x6)\", data))\n",
    "x7 = np.asarray(dmatrix(\"0 + C(x7)\", data))\n",
    "cont = np.asarray(dmatrix(\"np.sqrt(x2) + np.sqrt(x3) + np.sqrt(x4) + x5 -1\", data))\n",
    "y = np.asarray(dmatrix(\"y - 1\", data))"
   ]
  },
  {
   "cell_type": "markdown",
   "metadata": {},
   "source": [
    "Create a data frame to pass to the prep_data_all and my_lr functions"
   ]
  },
  {
   "cell_type": "code",
   "execution_count": 286,
   "metadata": {
    "collapsed": true
   },
   "outputs": [],
   "source": [
    "x1_d = pd.DataFrame(x1)\n",
    "x1_d.columns = [\"x11\",\"x12\",\"x13\",\"x14\",\"x15\"]\n",
    "x1_d=x1_d.reset_index()\n",
    "x6_d = pd.DataFrame(x6)\n",
    "x6_d.columns = [\"x61\",\"x62\",\"x63\",\"x64\",\"x65\",\"x66\",\"x67\",\"x68\",\"x69\",\"x610\",\"x611\",\"x612\",\"x613\"]\n",
    "x6_d=x6_d.reset_index()\n",
    "x7_d = pd.DataFrame(x7)\n",
    "x7_d.columns = [\"x71\",\"x72\",\"x73\"]\n",
    "x7_d=x7_d.reset_index()\n",
    "cont_d = pd.DataFrame(cont)\n",
    "cont_d.columns= [\"x2\",\"x3\",\"x4\",\"x5\"]\n",
    "cont_d=cont_d.reset_index()\n",
    "y_d = pd.DataFrame(y)\n",
    "y_d.columns = [\"y\"]\n",
    "y_d=y_d.reset_index()\n",
    "result=pd.merge(x1_d,cont_d,on='index')\n",
    "result = pd.merge(result,x6_d, on=\"index\")\n",
    "result = pd.merge(result,x7_d, on=\"index\")\n",
    "result = pd.merge(result,y_d, on=\"index\")\n",
    "d = result.drop('index',1)"
   ]
  },
  {
   "cell_type": "code",
   "execution_count": 310,
   "metadata": {},
   "outputs": [
    {
     "name": "stdout",
     "output_type": "stream",
     "text": [
      "===================================\n",
      "Experiment 7 Replicate 1\n",
      "===================================\n",
      "Model Coefficients w\\Intercept: \n",
      " [ 60.81009786] [[-5.77321658  1.79705288  1.73756019 -0.26987064  2.50847415 -0.08373937\n",
      "  -0.96043177 -0.48120221 -0.09752005 -2.63352041 -2.04845943 -3.22986088\n",
      "  -3.01490187 -1.91947469 -1.82017896 -1.49794485 -0.11793318  0.1345274\n",
      "   2.04524875  6.19771092  3.36491178  4.53987542 -0.96610178  0.30157638\n",
      "   0.6645254 ]] \n",
      "\n",
      "Validate\n",
      "===================================\n",
      "Coefficient of Determination: 0.93\n",
      "Mean squared error: 3.86\n",
      "\n",
      "Test\n",
      "===================================\n",
      "Coefficient of Determination: 0.83\n",
      "Mean squared error: 8.91\n"
     ]
    },
    {
     "data": {
      "image/png": "[encoded data removed]",
      "text/plain": [
       "<matplotlib.figure.Figure at 0x113297ba8>"
      ]
     },
     "metadata": {},
     "output_type": "display_data"
    }
   ],
   "source": [
    "X_train, Y_train, X_validate, Y_validate, X_test, Y_test = prep_data_all(d,80)\n",
    "my_lr(X_train,Y_train,X_validate,Y_validate,X_test,Y_test,\"Experiment 7\",\"Replicate 1\")"
   ]
  },
  {
   "cell_type": "code",
   "execution_count": 311,
   "metadata": {},
   "outputs": [
    {
     "name": "stdout",
     "output_type": "stream",
     "text": [
      "===================================\n",
      "Experiment 7 Replicate 2\n",
      "===================================\n",
      "Model Coefficients w\\Intercept: \n",
      " [ 59.30271259] [[-4.75688268  1.68574492  1.75725476 -0.59086761  1.90475061  0.13171118\n",
      "  -1.21666581 -0.4786218  -0.01670135 -2.18072946 -1.92383853 -3.50176014\n",
      "  -3.26403451 -1.79344757 -1.97498389 -1.13745213  0.06730832  0.25928746\n",
      "   2.09075526  5.41356274  3.34010948  4.60522295 -1.03215424  0.07634105\n",
      "   0.95581319]] \n",
      "\n",
      "Validate\n",
      "===================================\n",
      "Coefficient of Determination: 0.87\n",
      "Mean squared error: 6.15\n",
      "\n",
      "Test\n",
      "===================================\n",
      "Coefficient of Determination: 0.88\n",
      "Mean squared error: 9.59\n"
     ]
    },
    {
     "data": {
      "image/png": "[encoded data removed]",
      "text/plain": [
       "<matplotlib.figure.Figure at 0x114c7d4e0>"
      ]
     },
     "metadata": {},
     "output_type": "display_data"
    }
   ],
   "source": [
    "X_train, Y_train, X_validate, Y_validate, X_test, Y_test = prep_data_all(d,80)\n",
    "my_lr(X_train,Y_train,X_validate,Y_validate,X_test,Y_test,\"Experiment 7\",\"Replicate 2\")"
   ]
  },
  {
   "cell_type": "code",
   "execution_count": 312,
   "metadata": {},
   "outputs": [
    {
     "name": "stdout",
     "output_type": "stream",
     "text": [
      "===================================\n",
      "Experiment 7 Replicate 3\n",
      "===================================\n",
      "Model Coefficients w\\Intercept: \n",
      " [ 64.48302976] [[-6.35731543  1.05761149  1.42409632  0.16641429  3.70919333 -0.33241915\n",
      "  -1.03131073 -0.46387394 -0.13881867 -2.93548666 -1.81213413 -3.17597398\n",
      "  -3.31055945 -1.85831074 -1.41136323 -1.44042421 -0.24660685  0.33913907\n",
      "   2.19050327  5.62260396  3.43596355  4.60264941 -0.84499044  0.06759453\n",
      "   0.77739591]] \n",
      "\n",
      "Validate\n",
      "===================================\n",
      "Coefficient of Determination: 0.84\n",
      "Mean squared error: 8.81\n",
      "\n",
      "Test\n",
      "===================================\n",
      "Coefficient of Determination: 0.83\n",
      "Mean squared error: 9.42\n"
     ]
    },
    {
     "data": {
      "image/png": "[encoded data removed]",
      "text/plain": [
       "<matplotlib.figure.Figure at 0x113c4e208>"
      ]
     },
     "metadata": {},
     "output_type": "display_data"
    }
   ],
   "source": [
    "X_train, Y_train, X_validate, Y_validate, X_test, Y_test = prep_data_all(d,80)\n",
    "my_lr(X_train,Y_train,X_validate,Y_validate,X_test,Y_test,\"Experiment 7\",\"Replicate 3\")"
   ]
  },
  {
   "cell_type": "markdown",
   "metadata": {},
   "source": [
    "We consistently got better r-squared values with the extra variables included.  Therefore, it appears that those columns contained important data that accounts for some of the variation in the model."
   ]
  },
  {
   "cell_type": "markdown",
   "metadata": {},
   "source": [
    "## Conclusion\n",
    "It appears based on these experiments that an R-squared of around .85 - .70 is about as good as we are going to get no matter what transformations we apply or how we split the dataset. Generally we see only small differences between replicates and experiments, but not enough to be concerned. It is likely that if we want to improve the performance of a learning algorithm, we may need to use a different algorithm that takes into account the non-linear relationship of the data. Adding the categorical variables definitely improved the model."
   ]
  }
 ],
 "metadata": {
  "anaconda-cloud": {},
  "kernelspec": {
   "display_name": "Python 3",
   "language": "python",
   "name": "python3"
  },
  "language_info": {
   "codemirror_mode": {
    "name": "ipython",
    "version": 3
   },
   "file_extension": ".py",
   "mimetype": "text/x-python",
   "name": "python",
   "nbconvert_exporter": "python",
   "pygments_lexer": "ipython3",
   "version": "3.6.1"
  }
 },
 "nbformat": 4,
 "nbformat_minor": 1
}
